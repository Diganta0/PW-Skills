{
  "nbformat": 4,
  "nbformat_minor": 0,
  "metadata": {
    "colab": {
      "provenance": []
    },
    "kernelspec": {
      "name": "python3",
      "display_name": "Python 3"
    },
    "language_info": {
      "name": "python"
    }
  },
  "cells": [
    {
      "cell_type": "markdown",
      "source": [
        "# PYTHON OOPs\n",
        "\n",
        "\n",
        "\n",
        "\n",
        "\n",
        "1. What is Object-Oriented Programming (OOP)?\n",
        "  - OOP is a way of writing computer programs using \"objects\" that can contain data and code. The goal is to model real-world things and make code more organized and reusable.\n",
        "\n",
        "2. What is a class in OOP?\n",
        "  - A class is a blueprint or a template for creating objects. It defines the data and methods that objects of that class will have.\n",
        "\n",
        "3. What is an object in OOP?\n",
        "  - An object is an instance of a class. It is a real item created from the class blueprint, with its own specific data.\n",
        "\n",
        "4. What is the difference between abstraction and encapsulation?\n",
        "  - Abstraction means showing only the necessary details and hiding the complex background information.\n",
        "  - Encapsulation means bundling data and the methods that work on that data into a single unit (an object). It protects the data from being changed directly.\n",
        "\n",
        "5. What are dunder methods in Python?\n",
        "  - Dunder methods are special methods with names that start and end with two underscores, like `__init__` or `__str__`. They are also called magic methods and are used to control how objects behave.\n",
        "\n",
        "6. Explain the concept of inheritance in OOP.\n",
        "  - Inheritance is a way for a new class (child class) to get the data and methods from an existing class (parent class). This helps in reusing code and building a family of related classes.\n",
        "\n",
        "7. What is polymorphism in OOP?\n",
        "  - Polymorphism means \"many forms.\" It allows objects of different classes to be treated as objects of a common superclass. This means you can use a single function name to perform different actions depending on the object it's used on.\n",
        "\n",
        "8. How is encapsulation achieved in Python?\n",
        "  - Encapsulation is achieved in Python by using naming conventions with underscores to suggest that an attribute should not be accessed directly. A single underscore (`_`) suggests a \"protected\" member, and a double underscore (`__`) suggests a \"private\" member.\n",
        "\n",
        "9. What is a constructor in Python?\n",
        "  - A constructor is a special method used to create and initialize an object of a class. In Python, the constructor method is always named `__init__`.\n",
        "\n",
        "10. What are class and static methods in Python?\n",
        "  - A class method is a method that belongs to the class itself, not to a specific object. It takes the class as the first argument, usually named cls.\n",
        "  - A static method is a method that doesn't belong to the class or an object. It's just a simple function that is grouped with the class for organization. It does not take cls or self as an argument.\n",
        "\n",
        "11. What is method overloading in Python?\n",
        "  - Method overloading is when you have multiple methods in the same class with the same name but different arguments. Python does not support this feature directly like some other languages.\n",
        "\n",
        "12. What is method overriding in OOP?\n",
        "  - Method overriding is when a child class provides a new implementation for a method that is already defined in its parent class.\n",
        "\n",
        "13. What is a property decorator in Python?\n",
        "  - The property decorator is used to make a class method behave like a property (attribute). It lets you get, set, or delete a value using simple syntax, while running code behind the scenes.\n",
        "\n",
        "14. Why is polymorphism important in OOP?\n",
        "  - Polymorphism is important because it makes code more flexible and reusable. It allows you to write generic code that can work with different types of objects.\n",
        "\n",
        "15. What is an abstract class in Python?\n",
        "  - An abstract class is a class that cannot be used to create objects directly. It is designed to be a blueprint for other classes and often contains abstract methods that must be implemented by its child classes.\n",
        "\n",
        "16. What are the advantages of OOP?\n",
        "  - The advantages of OOP include code reuse through inheritance, better organization, easier troubleshooting, and the ability to model real-world problems.\n",
        "\n",
        "17. What is the difference between a class variable and an instance variable?\n",
        "  - A class variable is shared by all objects of a class. It is defined outside any method.\n",
        "  - An instance variable is unique to each object. It is defined inside a method, usually `__init__`, using self.\n",
        "\n",
        "18. What is multiple inheritance in Python?\n",
        "  - Multiple inheritance is when a class inherits from more than one parent class. This allows the child class to get features from all its parent classes.\n",
        "\n",
        "19. Explain the purpose of `__str__` and `__repr__` methods in Python.\n",
        "  - `__str__` provides a human-readable string representation of an object. It's what is returned when you use print().\n",
        "  - `__repr__` provides an official string representation that can be used to recreate the object. It's more for developers.\n",
        "\n",
        "20. What is the significance of the super() function in Python?\n",
        "  - The super() function is used in a child class to call a method from its parent class. This is helpful when you are overriding a parent method but still want to use some of its functionality.\n",
        "\n",
        "21. What is the significance of the `__del__` method in Python?\n",
        "  - The `__del__` method is the destructor. It is called when an object is about to be destroyed or its memory is about to be released.\n",
        "\n",
        "22. What is the difference between @staticmethod and @classmethod in Python?\n",
        "  - @staticmethod is a decorator for a method that doesn't need to access the class or the object instance. It takes no special first argument like self or cls.\n",
        "  - @classmethod is a decorator for a method that gets the class itself (cls) as its first argument. It can be used to create an object or modify a class variable.\n",
        "\n",
        "23. How does polymorphism work in Python with inheritance?\n",
        "  - With inheritance, polymorphism allows a single method call to behave differently based on the object's class. For example, a speak() method on an Animal parent class can be overridden by a Dog child class to make a \"Bark!\" sound.\n",
        "\n",
        "24. What is method chaining in Python OOP?\n",
        "  - Method chaining is a way to call multiple methods on the same object in a single line. This is achieved by having each method return the object itself.\n",
        "\n",
        "25. What is the purpose of the `__call__` method in Python?\n",
        "  - The `__call__` method makes an object callable like a function. When you try to call an object, this method is automatically executed."
      ],
      "metadata": {
        "id": "CCgFoHCqiHkB"
      }
    },
    {
      "cell_type": "code",
      "execution_count": 1,
      "metadata": {
        "id": "oV2fp7BtiF6s",
        "colab": {
          "base_uri": "https://localhost:8080/"
        },
        "outputId": "30081002-8e5d-4f39-a3ac-a11141b3f1b9"
      },
      "outputs": [
        {
          "output_type": "stream",
          "name": "stdout",
          "text": [
            "Bark!\n"
          ]
        }
      ],
      "source": [
        "# PRACTICAL\n",
        "\n",
        "\n",
        "\n",
        "\n",
        "\n",
        "#1. Create a parent class Animal with a method speak() that prints a generic message.\n",
        "class Animal:\n",
        "    def speak(self):\n",
        "        print(\"The animal makes a sound.\")\n",
        "\n",
        "class Dog(Animal):\n",
        "    def speak(self):\n",
        "        print(\"Bark!\")\n",
        "\n",
        "dog = Dog()\n",
        "dog.speak()"
      ]
    },
    {
      "cell_type": "code",
      "source": [
        "#2. Write a program to create an abstract class Shape with a method area(). Derive classes Circle and Rectangle from it and implement the area() method in both.\n",
        "from abc import ABC, abstractmethod\n",
        "\n",
        "class Shape(ABC):\n",
        "    @abstractmethod\n",
        "    def area(self):\n",
        "        pass\n",
        "\n",
        "class Circle(Shape):\n",
        "    def __init__(self, radius):\n",
        "        self.radius = radius\n",
        "\n",
        "    def area(self):\n",
        "        return 3.14 * self.radius * self.radius\n",
        "\n",
        "class Rectangle(Shape):\n",
        "    def __init__(self, width, height):\n",
        "        self.width = width\n",
        "        self.height = height\n",
        "\n",
        "    def area(self):\n",
        "        return self.width * self.height\n",
        "\n",
        "circle = Circle(5)\n",
        "rectangle = Rectangle(4, 6)\n",
        "\n",
        "print(f\"Area of Circle: {circle.area()}\")\n",
        "print(f\"Area of Rectangle: {rectangle.area()}\")"
      ],
      "metadata": {
        "colab": {
          "base_uri": "https://localhost:8080/"
        },
        "id": "nh5PSGNrpkeV",
        "outputId": "ae47fbd6-29a6-426c-c6b5-328906801911"
      },
      "execution_count": 2,
      "outputs": [
        {
          "output_type": "stream",
          "name": "stdout",
          "text": [
            "Area of Circle: 78.5\n",
            "Area of Rectangle: 24\n"
          ]
        }
      ]
    },
    {
      "cell_type": "code",
      "source": [
        "#3. Implement a multi-level inheritance scenario where a class Vehicle has an attribute type. Derive a class Car and further derive a class ElectricCar that adds a battery attribute.\n",
        "class Vehicle:\n",
        "    def __init__(self, type):\n",
        "        self.type = type\n",
        "\n",
        "class Car(Vehicle):\n",
        "    def __init__(self, type, model):\n",
        "        super().__init__(type)\n",
        "        self.model = model\n",
        "\n",
        "class ElectricCar(Car):\n",
        "    def __init__(self, type, model, battery):\n",
        "        super().__init__(type, model)\n",
        "        self.battery = battery\n",
        "\n",
        "my_electric_car = ElectricCar(\"Car\", \"Tesla Model 3\", \"100 kWh\")\n",
        "print(f\"Vehicle Type: {my_electric_car.type}, Model: {my_electric_car.model}, Battery: {my_electric_car.battery}\")"
      ],
      "metadata": {
        "colab": {
          "base_uri": "https://localhost:8080/"
        },
        "id": "kcPzulMvpfju",
        "outputId": "c5093237-7ba4-4a98-fa9f-6b8f4fcd52a8"
      },
      "execution_count": 3,
      "outputs": [
        {
          "output_type": "stream",
          "name": "stdout",
          "text": [
            "Vehicle Type: Car, Model: Tesla Model 3, Battery: 100 kWh\n"
          ]
        }
      ]
    },
    {
      "cell_type": "code",
      "source": [
        "#4. Demonstrate polymorphism by creating a base class Bird with a method fly(). Create two derived classes Sparrow and Penguin that override the fly() method.\n",
        "class Bird:\n",
        "    def fly(self):\n",
        "        print(\"I can fly!\")\n",
        "\n",
        "class Sparrow(Bird):\n",
        "    def fly(self):\n",
        "        print(\"I am a sparrow and I can fly high.\")\n",
        "\n",
        "class Penguin(Bird):\n",
        "    def fly(self):\n",
        "        print(\"I am a penguin and I cannot fly.\")\n",
        "\n",
        "sparrow = Sparrow()\n",
        "penguin = Penguin()\n",
        "\n",
        "sparrow.fly()\n",
        "penguin.fly()"
      ],
      "metadata": {
        "colab": {
          "base_uri": "https://localhost:8080/"
        },
        "id": "imGDey7Opb09",
        "outputId": "b1577f0e-08a4-4fce-e699-ec29e5e20904"
      },
      "execution_count": 4,
      "outputs": [
        {
          "output_type": "stream",
          "name": "stdout",
          "text": [
            "I am a sparrow and I can fly high.\n",
            "I am a penguin and I cannot fly.\n"
          ]
        }
      ]
    },
    {
      "cell_type": "code",
      "source": [
        "#5. Write a program to demonstrate encapsulation by creating a class BankAccount with private attributes balance and methods to deposit, withdraw, and check balance.\n",
        "class BankAccount:\n",
        "    def __init__(self, initial_balance=0):\n",
        "        self.__balance = initial_balance # Private attribute\n",
        "\n",
        "    def deposit(self, amount):\n",
        "        if amount > 0:\n",
        "            self.__balance += amount\n",
        "            print(\"Deposit successful.\")\n",
        "        else:\n",
        "            print(\"Invalid deposit amount.\")\n",
        "\n",
        "    def withdraw(self, amount):\n",
        "        if 0 < amount <= self.__balance:\n",
        "            self.__balance -= amount\n",
        "            print(\"Withdrawal successful.\")\n",
        "        else:\n",
        "            print(\"Insufficient funds or invalid amount.\")\n",
        "\n",
        "    def check_balance(self):\n",
        "        print(f\"Current balance: {self.__balance}\")\n",
        "\n",
        "account = BankAccount(100)\n",
        "account.check_balance()\n",
        "account.deposit(50)\n",
        "account.check_balance()\n",
        "account.withdraw(20)\n",
        "account.check_balance()"
      ],
      "metadata": {
        "colab": {
          "base_uri": "https://localhost:8080/"
        },
        "id": "jc288zd0pXtL",
        "outputId": "38dcd517-73ff-4fdf-fd76-f2db1991b97d"
      },
      "execution_count": 5,
      "outputs": [
        {
          "output_type": "stream",
          "name": "stdout",
          "text": [
            "Current balance: 100\n",
            "Deposit successful.\n",
            "Current balance: 150\n",
            "Withdrawal successful.\n",
            "Current balance: 130\n"
          ]
        }
      ]
    },
    {
      "cell_type": "code",
      "source": [
        "#6. Demonstrate runtime polymorphism using a method play() in a base class Instrument. Derive classes Guitar and Piano that implement their own version of play().\n",
        "class Instrument:\n",
        "    def play(self):\n",
        "        print(\"The instrument is playing a generic sound.\")\n",
        "\n",
        "class Guitar(Instrument):\n",
        "    def play(self):\n",
        "        print(\"Strumming the guitar.\")\n",
        "\n",
        "class Piano(Instrument):\n",
        "    def play(self):\n",
        "        print(\"Playing the piano keys.\")\n",
        "\n",
        "def make_it_play(instrument):\n",
        "    instrument.play()\n",
        "\n",
        "guitar = Guitar()\n",
        "piano = Piano()\n",
        "\n",
        "make_it_play(guitar)\n",
        "make_it_play(piano)"
      ],
      "metadata": {
        "colab": {
          "base_uri": "https://localhost:8080/"
        },
        "id": "lfNKPy3GpTF9",
        "outputId": "bd9c4fb0-d6f6-4ac0-d3f3-287c0d88b994"
      },
      "execution_count": 6,
      "outputs": [
        {
          "output_type": "stream",
          "name": "stdout",
          "text": [
            "Strumming the guitar.\n",
            "Playing the piano keys.\n"
          ]
        }
      ]
    },
    {
      "cell_type": "code",
      "source": [
        "#7. Create a class MathOperations with a class method add_numbers() to add two numbers and a static method subtract_numbers() to subtract two numbers.\n",
        "class MathOperations:\n",
        "    @classmethod\n",
        "    def add_numbers(cls, x, y):\n",
        "        return x + y\n",
        "\n",
        "    @staticmethod\n",
        "    def subtract_numbers(x, y):\n",
        "        return x - y\n",
        "\n",
        "print(f\"Sum: {MathOperations.add_numbers(10, 5)}\")\n",
        "print(f\"Difference: {MathOperations.subtract_numbers(10, 5)}\")"
      ],
      "metadata": {
        "colab": {
          "base_uri": "https://localhost:8080/"
        },
        "id": "Gyrodb3CpO_k",
        "outputId": "08ff2ef9-4031-476a-8814-061c37d4a116"
      },
      "execution_count": 7,
      "outputs": [
        {
          "output_type": "stream",
          "name": "stdout",
          "text": [
            "Sum: 15\n",
            "Difference: 5\n"
          ]
        }
      ]
    },
    {
      "cell_type": "code",
      "source": [
        "#8. Implement a class Person with a class method to count the total number of persons created.\n",
        "class Person:\n",
        "    count = 0\n",
        "\n",
        "    def __init__(self, name):\n",
        "        self.name = name\n",
        "        Person.count += 1\n",
        "\n",
        "    @classmethod\n",
        "    def get_count(cls):\n",
        "        return cls.count\n",
        "\n",
        "p1 = Person(\"Alice\")\n",
        "p2 = Person(\"Bob\")\n",
        "print(f\"Total number of persons created: {Person.get_count()}\")"
      ],
      "metadata": {
        "colab": {
          "base_uri": "https://localhost:8080/"
        },
        "id": "3CmciePUpLD0",
        "outputId": "ef22c2e2-800f-4149-93a5-835f34788f8d"
      },
      "execution_count": 8,
      "outputs": [
        {
          "output_type": "stream",
          "name": "stdout",
          "text": [
            "Total number of persons created: 2\n"
          ]
        }
      ]
    },
    {
      "cell_type": "code",
      "source": [
        "#9. Write a class Fraction with attributes numerator and denominator. Override the str method to display the fraction as \"numerator/denominator\".\n",
        "class Fraction:\n",
        "    def __init__(self, numerator, denominator):\n",
        "        self.numerator = numerator\n",
        "        self.denominator = denominator\n",
        "\n",
        "    def __str__(self):\n",
        "        return f\"{self.numerator}/{self.denominator}\"\n",
        "\n",
        "my_fraction = Fraction(3, 4)\n",
        "print(my_fraction)"
      ],
      "metadata": {
        "colab": {
          "base_uri": "https://localhost:8080/"
        },
        "id": "aYk8RJxDpHny",
        "outputId": "fc628b85-d44f-4e9d-a34d-99c0356ca5be"
      },
      "execution_count": 9,
      "outputs": [
        {
          "output_type": "stream",
          "name": "stdout",
          "text": [
            "3/4\n"
          ]
        }
      ]
    },
    {
      "cell_type": "code",
      "source": [
        "#10. Demonstrate operator overloading by creating a class Vector and overriding the add method to add two vectors.\n",
        "class Vector:\n",
        "    def __init__(self, x, y):\n",
        "        self.x = x\n",
        "        self.y = y\n",
        "\n",
        "    def __add__(self, other):\n",
        "        return Vector(self.x + other.x, self.y + other.y)\n",
        "\n",
        "    def __str__(self):\n",
        "        return f\"({self.x}, {self.y})\"\n",
        "\n",
        "v1 = Vector(2, 3)\n",
        "v2 = Vector(5, 7)\n",
        "v3 = v1 + v2\n",
        "print(v3)"
      ],
      "metadata": {
        "colab": {
          "base_uri": "https://localhost:8080/"
        },
        "id": "sxcXq81ipD2Z",
        "outputId": "4b34d5a4-98e8-44f6-cf64-574f9d61cc6f"
      },
      "execution_count": 10,
      "outputs": [
        {
          "output_type": "stream",
          "name": "stdout",
          "text": [
            "(7, 10)\n"
          ]
        }
      ]
    },
    {
      "cell_type": "code",
      "source": [
        "#11. Create a class Person with attributes name and age. Add a method greet() that prints \"Hello, my name is {name} and I am {age} years old.\"\n",
        "class Person:\n",
        "    def __init__(self, name, age):\n",
        "        self.name = name\n",
        "        self.age = age\n",
        "\n",
        "    def greet(self):\n",
        "        print(f\"Hello, my name is {self.name} and I am {self.age} years old.\")\n",
        "\n",
        "person1 = Person(\"Diganta\", 23)\n",
        "person1.greet()"
      ],
      "metadata": {
        "colab": {
          "base_uri": "https://localhost:8080/"
        },
        "id": "Jb09YkTLpAx3",
        "outputId": "49aab04a-ca8a-4b2e-c515-9111065e5be7"
      },
      "execution_count": 11,
      "outputs": [
        {
          "output_type": "stream",
          "name": "stdout",
          "text": [
            "Hello, my name is Diganta and I am 23 years old.\n"
          ]
        }
      ]
    },
    {
      "cell_type": "code",
      "source": [
        "#12. Implement a class Student with attributes name and grades. Create a method average_grade() to compute the average of the grades.\n",
        "class Student:\n",
        "    def __init__(self, name, grades):\n",
        "        self.name = name\n",
        "        self.grades = grades\n",
        "\n",
        "    def average_grade(self):\n",
        "        return sum(self.grades) / len(self.grades)\n",
        "\n",
        "student1 = Student(\"Diganta\", [85, 90, 78, 92])\n",
        "print(f\"The average grade for {student1.name} is {student1.average_grade()}\")"
      ],
      "metadata": {
        "colab": {
          "base_uri": "https://localhost:8080/"
        },
        "id": "grdtzCxwo8nm",
        "outputId": "05a9803a-36c1-4088-89c7-e4d472b91d0d"
      },
      "execution_count": 12,
      "outputs": [
        {
          "output_type": "stream",
          "name": "stdout",
          "text": [
            "The average grade for Diganta is 86.25\n"
          ]
        }
      ]
    },
    {
      "cell_type": "code",
      "source": [
        "#13. Create a class Rectangle with methods set_dimensions() to set the dimensions and area() to calculate the area.\n",
        "class Rectangle:\n",
        "    def __init__(self):\n",
        "        self.width = 0\n",
        "        self.height = 0\n",
        "\n",
        "    def set_dimensions(self, width, height):\n",
        "        self.width = width\n",
        "        self.height = height\n",
        "\n",
        "    def area(self):\n",
        "        return self.width * self.height\n",
        "\n",
        "my_rectangle = Rectangle()\n",
        "my_rectangle.set_dimensions(10, 5)\n",
        "print(f\"The area of the rectangle is: {my_rectangle.area()}\")"
      ],
      "metadata": {
        "colab": {
          "base_uri": "https://localhost:8080/"
        },
        "id": "NkN-K_1Wo2a6",
        "outputId": "1d1f8cea-c9cd-4733-d447-0ce63ba7a4b9"
      },
      "execution_count": 13,
      "outputs": [
        {
          "output_type": "stream",
          "name": "stdout",
          "text": [
            "The area of the rectangle is: 50\n"
          ]
        }
      ]
    },
    {
      "cell_type": "code",
      "source": [
        "#14. Create a class Employee with a method calculate_salary() that computes the salary based on hours worked and hourly rate. Create a derived class Manager that adds a bonus to the salary.\n",
        "class Employee:\n",
        "    def __init__(self, hours_worked, hourly_rate):\n",
        "        self.hours_worked = hours_worked\n",
        "        self.hourly_rate = hourly_rate\n",
        "\n",
        "    def calculate_salary(self):\n",
        "        return self.hours_worked * self.hourly_rate\n",
        "\n",
        "class Manager(Employee):\n",
        "    def __init__(self, hours_worked, hourly_rate, bonus):\n",
        "        super().__init__(hours_worked, hourly_rate)\n",
        "        self.bonus = bonus\n",
        "\n",
        "    def calculate_salary(self):\n",
        "        base_salary = super().calculate_salary()\n",
        "        return base_salary + self.bonus\n",
        "\n",
        "employee = Employee(40, 20)\n",
        "manager = Manager(40, 20, 500)\n",
        "\n",
        "print(f\"Employee salary: {employee.calculate_salary()}\")\n",
        "print(f\"Manager salary: {manager.calculate_salary()}\")"
      ],
      "metadata": {
        "colab": {
          "base_uri": "https://localhost:8080/"
        },
        "id": "bO6yYHtxovXP",
        "outputId": "06703a0b-eafe-45be-82af-4646fc2beb82"
      },
      "execution_count": 14,
      "outputs": [
        {
          "output_type": "stream",
          "name": "stdout",
          "text": [
            "Employee salary: 800\n",
            "Manager salary: 1300\n"
          ]
        }
      ]
    },
    {
      "cell_type": "code",
      "source": [
        "#15. Create a class Product with attributes name, price, and quantity. Implement a method total_price() that calculates the total price of the product.\n",
        "class Product:\n",
        "    def __init__(self, name, price, quantity):\n",
        "        self.name = name\n",
        "        self.price = price\n",
        "        self.quantity = quantity\n",
        "\n",
        "    def total_price(self):\n",
        "        return self.price * self.quantity\n",
        "\n",
        "product1 = Product(\"Laptop\", 1200, 2)\n",
        "print(f\"The total price of {product1.name} is: {product1.total_price()}\")"
      ],
      "metadata": {
        "colab": {
          "base_uri": "https://localhost:8080/"
        },
        "id": "RHtfZG-QooKE",
        "outputId": "928950ce-1d8d-4968-af59-737d31661544"
      },
      "execution_count": 15,
      "outputs": [
        {
          "output_type": "stream",
          "name": "stdout",
          "text": [
            "The total price of Laptop is: 2400\n"
          ]
        }
      ]
    },
    {
      "cell_type": "code",
      "source": [
        "#16. Create a class Animal with an abstract method sound(). Create two derived classes Cow and Sheep that implement the sound() method.\n",
        "from abc import ABC, abstractmethod\n",
        "\n",
        "class Animal(ABC):\n",
        "    @abstractmethod\n",
        "    def sound(self):\n",
        "        pass\n",
        "\n",
        "class Cow(Animal):\n",
        "    def sound(self):\n",
        "        return \"Moo\"\n",
        "\n",
        "class Sheep(Animal):\n",
        "    def sound(self):\n",
        "        return \"Baa\"\n",
        "\n",
        "cow = Cow()\n",
        "sheep = Sheep()\n",
        "print(f\"Cow sound: {cow.sound()}\")\n",
        "print(f\"Sheep sound: {sheep.sound()}\")"
      ],
      "metadata": {
        "colab": {
          "base_uri": "https://localhost:8080/"
        },
        "id": "WDhPM-Pkoixm",
        "outputId": "642e763a-07c3-494f-d465-78721e3938b3"
      },
      "execution_count": 16,
      "outputs": [
        {
          "output_type": "stream",
          "name": "stdout",
          "text": [
            "Cow sound: Moo\n",
            "Sheep sound: Baa\n"
          ]
        }
      ]
    },
    {
      "cell_type": "code",
      "source": [
        "#17. Create a class Book with attributes title, author, and year_published. Add a method get_book_info() that returns a formatted string with the book's details.\n",
        "class Book:\n",
        "    def __init__(self, title, author, year_published):\n",
        "        self.title = title\n",
        "        self.author = author\n",
        "        self.year_published = year_published\n",
        "\n",
        "    def get_book_info(self):\n",
        "        return f\"Title: {self.title}, Author: {self.author}, Year: {self.year_published}\"\n",
        "\n",
        "book1 = Book(\"Learning Python\", \"Mark Lutz\", 2013)\n",
        "print(book1.get_book_info())"
      ],
      "metadata": {
        "colab": {
          "base_uri": "https://localhost:8080/"
        },
        "id": "3sAAHv_EodhA",
        "outputId": "4fb56206-5ff3-4a99-a215-f34916e35f80"
      },
      "execution_count": 17,
      "outputs": [
        {
          "output_type": "stream",
          "name": "stdout",
          "text": [
            "Title: Learning Python, Author: Mark Lutz, Year: 2013\n"
          ]
        }
      ]
    },
    {
      "cell_type": "code",
      "source": [
        "#18. Create a class House with attributes address and price. Create a derived class Mansion that adds an attribute number_of_rooms.\n",
        "class House:\n",
        "    def __init__(self, address, price):\n",
        "        self.address = address\n",
        "        self.price = price\n",
        "\n",
        "class Mansion(House):\n",
        "    def __init__(self, address, price, number_of_rooms):\n",
        "        super().__init__(address, price)\n",
        "        self.number_of_rooms = number_of_rooms\n",
        "\n",
        "my_mansion = Mansion(\"123 Main St\", 5000000, 15)\n",
        "print(f\"Mansion Address: {my_mansion.address}, Price: {my_mansion.price}, Rooms: {my_mansion.number_of_rooms}\")"
      ],
      "metadata": {
        "colab": {
          "base_uri": "https://localhost:8080/"
        },
        "id": "bNotK6J6oQoX",
        "outputId": "c3d5f10b-67e4-4c67-e292-39bfa178d59e"
      },
      "execution_count": 18,
      "outputs": [
        {
          "output_type": "stream",
          "name": "stdout",
          "text": [
            "Mansion Address: 123 Main St, Price: 5000000, Rooms: 15\n"
          ]
        }
      ]
    }
  ]
}