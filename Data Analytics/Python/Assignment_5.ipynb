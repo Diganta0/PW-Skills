{
  "nbformat": 4,
  "nbformat_minor": 0,
  "metadata": {
    "colab": {
      "provenance": []
    },
    "kernelspec": {
      "name": "python3",
      "display_name": "Python 3"
    },
    "language_info": {
      "name": "python"
    }
  },
  "cells": [
    {
      "cell_type": "markdown",
      "source": [
        "# Files, exceptional handling, logging and memory management\n",
        "\n",
        "\n",
        "\n",
        "\n",
        "\n",
        "1. What is the difference between interpreted and compiled languages\n",
        "  - Interpreted languages run line by line (like Python), while compiled languages are first converted into machine code and then executed (like C, Java).\n",
        "\n",
        "\n",
        "2. What is exception handling in Python\n",
        "  - It is a way to deal with errors in code using try, except, finally, and else blocks so the program doesn’t crash.\n",
        "\n",
        "\n",
        "3. What is the purpose of the finally block in exception handling\n",
        "  - The finally block runs no matter what happens, usually for cleanup tasks like closing files or releasing resources.\n",
        "\n",
        "\n",
        "4. What is logging in Python\n",
        "  - Logging is recording important events, errors, or information in a program for debugging and tracking.\n",
        "\n",
        "\n",
        "5. What is the significance of the `__del__` method in Python\n",
        "  - The `__del__` method is a destructor, called when an object is deleted, used to clean up resources.\n",
        "\n",
        "\n",
        "6. What is the difference between import and from ... import in Python\n",
        "  - import module brings the whole module, while from module import x brings only specific functions or variables.\n",
        "\n",
        "\n",
        "7. How can you handle multiple exceptions in Python\n",
        "  - Use multiple except blocks or combine exceptions in a tuple like except (TypeError, ValueError):.\n",
        "\n",
        "\n",
        "8. What is the purpose of the with statement when handling files in Python\n",
        "  - It automatically opens and closes the file safely without needing close().\n",
        "\n",
        "\n",
        "9. What is the difference between multithreading and multiprocessing\n",
        "  - Multithreading runs multiple threads inside one process (good for I/O tasks), while multiprocessing runs separate processes (good for CPU-heavy tasks).\n",
        "\n",
        "\n",
        "10. What are the advantages of using logging in a program\n",
        "  - It helps track errors, debug, monitor performance, and keep a record of program behavior.\n",
        "\n",
        "\n",
        "11. What is memory management in Python\n",
        "  - It is how Python handles memory allocation and freeing using a private heap and garbage collector.\n",
        "\n",
        "\n",
        "12. What are the basic steps involved in exception handling in Python\n",
        "  - Use try to run code, except to handle errors, else for code if no error, and finally for cleanup.\n",
        "\n",
        "\n",
        "13. Why is memory management important in Python\n",
        "  - It avoids memory leaks, keeps performance smooth, and ensures resources are used properly.\n",
        "\n",
        "\n",
        "14. What is the role of try and except in exception handling\n",
        "  - try contains risky code, and except handles errors if they occur.\n",
        "\n",
        "\n",
        "15. How does Python's garbage collection system work\n",
        "  - It frees unused memory by deleting objects with zero references.\n",
        "\n",
        "\n",
        "16. What is the purpose of the else block in exception handling\n",
        "  - The else block runs only if no exception happens inside try.\n",
        "\n",
        "\n",
        "17. What are the common logging levels in Python\n",
        "  - DEBUG, INFO, WARNING, ERROR, and CRITICAL.\n",
        "\n",
        "\n",
        "18. What is the difference between os.fork() and multiprocessing in Python\n",
        "  - os.fork() works only on Unix and makes a child process, while multiprocessing works on all platforms and is more user-friendly.\n",
        "\n",
        "\n",
        "19. What is the importance of closing a file in Python\n",
        "  - Closing a file frees resources and ensures changes are saved properly.\n",
        "\n",
        "\n",
        "20. What is the difference between file.read() and file.readline() in Python\n",
        "  - read() reads the whole file, while readline() reads one line at a time.\n",
        "\n",
        "\n",
        "21. What is the logging module in Python used for\n",
        "  - It is used to log messages at different levels for debugging and tracking.\n",
        "\n",
        "\n",
        "22. What is the os module in Python used for in file handling\n",
        "  - It helps with file operations like creating, removing, checking paths, and working with directories.\n",
        "\n",
        "\n",
        "23. What are the challenges associated with memory management in Python\n",
        "  - Issues include memory leaks, large object handling, and high memory use with big data.\n",
        "\n",
        "\n",
        "24. How do you raise an exception manually in Python\n",
        "  - Use the raise keyword, e.g., raise ValueError(\"Error message\").\n",
        "\n",
        "\n",
        "25. Why is it important to use multithreading in certain applications?\n",
        "  - It improves performance for I/O-bound tasks like downloading files or handling many users at once."
      ],
      "metadata": {
        "id": "DPlZlS4K0JSW"
      }
    },
    {
      "cell_type": "code",
      "source": [
        "# PRACTICAL\n",
        "\n",
        "\n",
        "\n",
        "\n",
        "\n",
        "#1 How can you open a file for writing in Python and write a string to it\n",
        "with open(\"output.txt\", \"w\") as f:\n",
        "    f.write(\"Hello, this is a test string.\")\n",
        "\n",
        "print(\"Text written to output.txt\")\n",
        "\n",
        "# Read back and show content\n",
        "with open(\"output.txt\", \"r\") as f:\n",
        "    print(\"File content:\\n\", f.read())"
      ],
      "metadata": {
        "colab": {
          "base_uri": "https://localhost:8080/"
        },
        "id": "ByLfpuds20p0",
        "outputId": "2f10361d-e9b3-4915-d1db-19a0764d55a0"
      },
      "execution_count": 56,
      "outputs": [
        {
          "output_type": "stream",
          "name": "stdout",
          "text": [
            "Text written to output.txt\n",
            "File content:\n",
            " Hello, this is a test string.\n"
          ]
        }
      ]
    },
    {
      "cell_type": "code",
      "source": [
        "# 2 Write a Python program to read the contents of a file and print each line\n",
        "# Create a sample file\n",
        "with open(\"output.txt\", \"w\") as f:\n",
        "    f.write(\"Line 1\\nLine 2\\nLine 3\")\n",
        "\n",
        "# Read and print each line\n",
        "with open(\"output.txt\", \"r\") as f:\n",
        "    for line in f:\n",
        "        print(line.strip())"
      ],
      "metadata": {
        "colab": {
          "base_uri": "https://localhost:8080/"
        },
        "id": "68B7ZFzw32LW",
        "outputId": "679d284d-c945-4836-cb94-8a4eca56c8fe"
      },
      "execution_count": 32,
      "outputs": [
        {
          "output_type": "stream",
          "name": "stdout",
          "text": [
            "Line 1\n",
            "Line 2\n",
            "Line 3\n"
          ]
        }
      ]
    },
    {
      "cell_type": "code",
      "source": [
        "# 3 How would you handle a case where the file doesn't exist while trying to open it for reading\n",
        "try:\n",
        "    with open(\"nofile.txt\", \"r\") as f:\n",
        "        print(f.read())\n",
        "except FileNotFoundError:\n",
        "    print(\"File does not exist!\")"
      ],
      "metadata": {
        "colab": {
          "base_uri": "https://localhost:8080/"
        },
        "id": "TELGd_WD32Be",
        "outputId": "4340b200-a965-478d-f46f-bfdb49f21779"
      },
      "execution_count": 33,
      "outputs": [
        {
          "output_type": "stream",
          "name": "stdout",
          "text": [
            "File does not exist!\n"
          ]
        }
      ]
    },
    {
      "cell_type": "code",
      "source": [
        "# 4 Write a Python script that reads from one file and writes its content to another file\n",
        "# Create source.txt\n",
        "with open(\"source.txt\", \"w\") as f:\n",
        "    f.write(\"This is the content of the source file.\\nHello Roni!\")\n",
        "\n",
        "# Copy content\n",
        "with open(\"source.txt\", \"r\") as src:\n",
        "    content = src.read()\n",
        "\n",
        "with open(\"copy.txt\", \"w\") as dest:\n",
        "    dest.write(content)\n",
        "\n",
        "print(\"File copied successfully!\")"
      ],
      "metadata": {
        "colab": {
          "base_uri": "https://localhost:8080/"
        },
        "id": "rTZck3Pf312o",
        "outputId": "49126f53-c9ee-4fab-ecc1-450064913ea6"
      },
      "execution_count": 34,
      "outputs": [
        {
          "output_type": "stream",
          "name": "stdout",
          "text": [
            "File copied successfully!\n"
          ]
        }
      ]
    },
    {
      "cell_type": "code",
      "source": [
        "# 5 How would you catch and handle division by zero error in Python\n",
        "try:\n",
        "    x = 10 / 0\n",
        "except ZeroDivisionError:\n",
        "    print(\"Division by zero is not allowed.\")"
      ],
      "metadata": {
        "colab": {
          "base_uri": "https://localhost:8080/"
        },
        "id": "9eVBLsJQ31tY",
        "outputId": "85a69e70-62c1-46da-febb-435dc7084fee"
      },
      "execution_count": 35,
      "outputs": [
        {
          "output_type": "stream",
          "name": "stdout",
          "text": [
            "Division by zero is not allowed.\n"
          ]
        }
      ]
    },
    {
      "cell_type": "code",
      "source": [
        "# 6 Write a Python program that logs an error message to a log file when a division by zero exception occurs\n",
        "import logging\n",
        "\n",
        "logging.basicConfig(filename=\"error.log\", level=logging.ERROR)\n",
        "\n",
        "try:\n",
        "    result = 10 / 0\n",
        "except ZeroDivisionError:\n",
        "    logging.error(\"Division by zero occurred.\")"
      ],
      "metadata": {
        "colab": {
          "base_uri": "https://localhost:8080/"
        },
        "id": "_-ol7f_D31lv",
        "outputId": "ea7c78cc-1889-43c1-e4c4-d4afbe43a68c"
      },
      "execution_count": 36,
      "outputs": [
        {
          "output_type": "stream",
          "name": "stderr",
          "text": [
            "ERROR:root:Division by zero occurred.\n"
          ]
        }
      ]
    },
    {
      "cell_type": "code",
      "source": [
        "# 7 How do you log information at different levels (INFO, ERROR, WARNING) in Python using the logging module\n",
        "import logging\n",
        "\n",
        "logging.basicConfig(filename=\"app.log\", level=logging.DEBUG)\n",
        "\n",
        "logging.info(\"This is an INFO message\")\n",
        "logging.warning(\"This is a WARNING message\")\n",
        "logging.error(\"This is an ERROR message\")"
      ],
      "metadata": {
        "colab": {
          "base_uri": "https://localhost:8080/"
        },
        "id": "DXcclTbh31eP",
        "outputId": "faeb7cde-c639-42e5-c180-f565e9e7e000"
      },
      "execution_count": 37,
      "outputs": [
        {
          "output_type": "stream",
          "name": "stderr",
          "text": [
            "WARNING:root:This is a WARNING message\n",
            "ERROR:root:This is an ERROR message\n"
          ]
        }
      ]
    },
    {
      "cell_type": "code",
      "source": [
        "# 8 Write a program to handle a file opening error using exception handling\n",
        "try:\n",
        "    with open(\"mydata.txt\", \"r\") as f:\n",
        "        print(f.read())\n",
        "except IOError:\n",
        "    print(\"Error opening file!\")"
      ],
      "metadata": {
        "colab": {
          "base_uri": "https://localhost:8080/"
        },
        "id": "rX-2tJEs31XZ",
        "outputId": "7e368b09-e521-4eda-bbde-89b65fdf5913"
      },
      "execution_count": 38,
      "outputs": [
        {
          "output_type": "stream",
          "name": "stdout",
          "text": [
            "Error opening file!\n"
          ]
        }
      ]
    },
    {
      "cell_type": "code",
      "source": [
        "# 9 How can you read a file line by line and store its content in a list in Python\n",
        "# Create a file first\n",
        "with open(\"output.txt\", \"w\") as f:\n",
        "    f.write(\"Apple\\nBanana\\nCherry\")\n",
        "\n",
        "# Read into a list\n",
        "with open(\"output.txt\", \"r\") as f:\n",
        "    lines = [line.strip() for line in f]\n",
        "\n",
        "print(lines)"
      ],
      "metadata": {
        "colab": {
          "base_uri": "https://localhost:8080/"
        },
        "id": "LvrXXGMU31PR",
        "outputId": "68a572f3-3531-482f-a6f9-14ce6c7bee76"
      },
      "execution_count": 57,
      "outputs": [
        {
          "output_type": "stream",
          "name": "stdout",
          "text": [
            "['Apple', 'Banana', 'Cherry']\n"
          ]
        }
      ]
    },
    {
      "cell_type": "code",
      "source": [
        "# 10 How can you append data to an existing file in Python\n",
        "with open(\"output.txt\", \"a\") as f:\n",
        "    f.write(\"\\nThis is new appended text.\")\n",
        "\n",
        "# Show final content\n",
        "with open(\"output.txt\", \"r\") as f:\n",
        "    print(f.read())"
      ],
      "metadata": {
        "colab": {
          "base_uri": "https://localhost:8080/"
        },
        "id": "f6gWMHmY31Hw",
        "outputId": "72206df1-67e7-47e8-f2b6-0d01992cbc8a"
      },
      "execution_count": 40,
      "outputs": [
        {
          "output_type": "stream",
          "name": "stdout",
          "text": [
            "Apple\n",
            "Banana\n",
            "Cherry\n",
            "This is new appended text.\n"
          ]
        }
      ]
    },
    {
      "cell_type": "code",
      "source": [
        "# 11. Write a Python program that uses a try-except block to handle an error when attempting to access a dictionary key that doesn't exist\n",
        "data = {\"name\": \"Roni\"}\n",
        "\n",
        "try:\n",
        "    print(data[\"age\"])\n",
        "except KeyError:\n",
        "    print(\"Key not found in dictionary.\")"
      ],
      "metadata": {
        "colab": {
          "base_uri": "https://localhost:8080/"
        },
        "id": "2MibXWDY31Ag",
        "outputId": "7ad58b66-8e7d-4885-85b3-016d9815defe"
      },
      "execution_count": 41,
      "outputs": [
        {
          "output_type": "stream",
          "name": "stdout",
          "text": [
            "Key not found in dictionary.\n"
          ]
        }
      ]
    },
    {
      "cell_type": "code",
      "source": [
        "# 12 Write a program that demonstrates using multiple except blocks to handle different types of exceptions\n",
        "try:\n",
        "    x = int(\"abc\")\n",
        "    y = 10 / 0\n",
        "except ValueError:\n",
        "    print(\"Value error occurred\")\n",
        "except ZeroDivisionError:\n",
        "    print(\"Division by zero error\")"
      ],
      "metadata": {
        "colab": {
          "base_uri": "https://localhost:8080/"
        },
        "id": "iqkQjRML305x",
        "outputId": "7946eec8-6005-4332-eeaf-e5af1cc8b02a"
      },
      "execution_count": 42,
      "outputs": [
        {
          "output_type": "stream",
          "name": "stdout",
          "text": [
            "Value error occurred\n"
          ]
        }
      ]
    },
    {
      "cell_type": "code",
      "source": [
        "# 13 How would you check if a file exists before attempting to read it in Python\n",
        "import os\n",
        "\n",
        "# Create sample file\n",
        "with open(\"output.txt\", \"w\") as f:\n",
        "    f.write(\"File check example\")\n",
        "\n",
        "if os.path.exists(\"output.txt\"):\n",
        "    with open(\"output.txt\", \"r\") as f:\n",
        "        print(f.read())\n",
        "else:\n",
        "    print(\"File not found.\")"
      ],
      "metadata": {
        "colab": {
          "base_uri": "https://localhost:8080/"
        },
        "id": "EXRAg8Wn30xp",
        "outputId": "51ab8cf7-36d8-48a8-e2fd-fb9314dd18c5"
      },
      "execution_count": 43,
      "outputs": [
        {
          "output_type": "stream",
          "name": "stdout",
          "text": [
            "File check example\n"
          ]
        }
      ]
    },
    {
      "cell_type": "code",
      "source": [
        "# 14 Write a program that uses the logging module to log both informational and error messages\n",
        "import logging\n",
        "logging.basicConfig(filename=\"logfile.log\", level=logging.DEBUG)\n",
        "\n",
        "logging.info(\"Program started successfully.\")\n",
        "try:\n",
        "    x = 10 / 0\n",
        "except ZeroDivisionError:\n",
        "    logging.error(\"Error: Division by zero.\")"
      ],
      "metadata": {
        "colab": {
          "base_uri": "https://localhost:8080/"
        },
        "id": "DoehJhjh30qy",
        "outputId": "9d4f15bc-668f-4998-9007-47e362ca0f2c"
      },
      "execution_count": 44,
      "outputs": [
        {
          "output_type": "stream",
          "name": "stderr",
          "text": [
            "ERROR:root:Error: Division by zero.\n"
          ]
        }
      ]
    },
    {
      "cell_type": "code",
      "source": [
        "# 15 Write a Python program that prints the content of a file and handles the case when the file is empty\n",
        "# Create an empty file\n",
        "open(\"empty.txt\", \"w\").close()\n",
        "\n",
        "with open(\"empty.txt\", \"r\") as f:\n",
        "    content = f.read()\n",
        "\n",
        "if content:\n",
        "    print(content)\n",
        "else:\n",
        "    print(\"File is empty.\")"
      ],
      "metadata": {
        "colab": {
          "base_uri": "https://localhost:8080/"
        },
        "id": "K32waJYk30ji",
        "outputId": "2f58a5c5-6678-435e-a8ab-ae67c5a3abb7"
      },
      "execution_count": 45,
      "outputs": [
        {
          "output_type": "stream",
          "name": "stdout",
          "text": [
            "File is empty.\n"
          ]
        }
      ]
    },
    {
      "cell_type": "code",
      "source": [
        "# 16 Demonstrate how to use memory profiling to check the memory usage of a small program\n",
        "# !pip install memory-profiler\n",
        "from memory_profiler import memory_usage\n",
        "\n",
        "def test_func():\n",
        "    nums = [i for i in range(10000)]\n",
        "    return sum(nums)\n",
        "\n",
        "mem_usage = memory_usage(test_func)\n",
        "print(\"Memory used during execution:\", mem_usage, \"MB\")"
      ],
      "metadata": {
        "colab": {
          "base_uri": "https://localhost:8080/"
        },
        "id": "sIyym4kB30cp",
        "outputId": "9ba20b1e-5476-4e82-daa4-d8dd45c89972"
      },
      "execution_count": 46,
      "outputs": [
        {
          "output_type": "stream",
          "name": "stdout",
          "text": [
            "Memory used during execution: [113.2578125, 113.2578125, 113.2578125] MB\n"
          ]
        }
      ]
    },
    {
      "cell_type": "code",
      "source": [
        "# 17 Write a Python program to create and write a list of numbers to a file, one number per line\n",
        "numbers = [1, 2, 3, 4, 5]\n",
        "\n",
        "# Write numbers to file\n",
        "with open(\"numbers.txt\", \"w\") as f:\n",
        "    for num in numbers:\n",
        "        f.write(str(num) + \"\\n\")\n",
        "\n",
        "print(\"Numbers written to numbers.txt\")\n",
        "\n",
        "# Read back and show content\n",
        "with open(\"numbers.txt\", \"r\") as f:\n",
        "    print(\"File content:\\n\", f.read())"
      ],
      "metadata": {
        "colab": {
          "base_uri": "https://localhost:8080/"
        },
        "id": "eYayR_q730Vb",
        "outputId": "388ba953-07c7-41f9-f436-8be8206e4386"
      },
      "execution_count": 55,
      "outputs": [
        {
          "output_type": "stream",
          "name": "stdout",
          "text": [
            "Numbers written to numbers.txt\n",
            "File content:\n",
            " 1\n",
            "2\n",
            "3\n",
            "4\n",
            "5\n",
            "\n"
          ]
        }
      ]
    },
    {
      "cell_type": "code",
      "source": [
        "# 18 How would you implement a basic logging setup that logs to a file with rotation after 1MB\n",
        "import logging\n",
        "from logging.handlers import RotatingFileHandler\n",
        "\n",
        "logger = logging.getLogger(\"RotatingLog\")\n",
        "logger.setLevel(logging.INFO)\n",
        "\n",
        "handler = RotatingFileHandler(\"rotate.log\", maxBytes=1_000_000, backupCount=3)\n",
        "logger.addHandler(handler)\n",
        "\n",
        "logger.info(\"This is a rotating log example.\")"
      ],
      "metadata": {
        "colab": {
          "base_uri": "https://localhost:8080/"
        },
        "id": "r8hQQkT230Qy",
        "outputId": "01cad653-8d0e-4263-b80a-c318ebbf52a4"
      },
      "execution_count": 48,
      "outputs": [
        {
          "output_type": "stream",
          "name": "stderr",
          "text": [
            "INFO:RotatingLog:This is a rotating log example.\n"
          ]
        }
      ]
    },
    {
      "cell_type": "code",
      "source": [
        "# 19 Write a program that handles both IndexError and KeyError using a try-except block\n",
        "data = {\"name\": \"Diganta\"}\n",
        "lst = [1, 2, 3]\n",
        "\n",
        "try:\n",
        "    print(lst[5])\n",
        "    print(data[\"age\"])\n",
        "except IndexError:\n",
        "    print(\"Index out of range.\")\n",
        "except KeyError:\n",
        "    print(\"Key not found.\")"
      ],
      "metadata": {
        "colab": {
          "base_uri": "https://localhost:8080/"
        },
        "id": "I170Rkv130GS",
        "outputId": "0bcb7331-7c06-4955-c16e-56d084da00d2"
      },
      "execution_count": 49,
      "outputs": [
        {
          "output_type": "stream",
          "name": "stdout",
          "text": [
            "Index out of range.\n"
          ]
        }
      ]
    },
    {
      "cell_type": "code",
      "source": [
        "# 20 How would you open a file and read its contents using a context manager in Python\n",
        "# Create a file first\n",
        "with open(\"output.txt\", \"w\") as f:\n",
        "    f.write(\"Reading with context manager\")\n",
        "\n",
        "with open(\"output.txt\", \"r\") as f:\n",
        "    print(f.read())"
      ],
      "metadata": {
        "colab": {
          "base_uri": "https://localhost:8080/"
        },
        "id": "UwsnK-i_30B0",
        "outputId": "b1c6e3c7-2314-4b21-a8d0-23c663e9950d"
      },
      "execution_count": 50,
      "outputs": [
        {
          "output_type": "stream",
          "name": "stdout",
          "text": [
            "Reading with context manager\n"
          ]
        }
      ]
    },
    {
      "cell_type": "code",
      "source": [
        "# 21 Write a Python program that reads a file and prints the number of occurrences of a specific word\n",
        "# Create file\n",
        "with open(\"output.txt\", \"w\") as f:\n",
        "    f.write(\"test hello test world test\")\n",
        "\n",
        "word = \"test\"\n",
        "count = 0\n",
        "\n",
        "with open(\"output.txt\", \"r\") as f:\n",
        "    for line in f:\n",
        "        count += line.lower().split().count(word.lower())\n",
        "\n",
        "print(f\"'{word}' occurs {count} times.\")"
      ],
      "metadata": {
        "colab": {
          "base_uri": "https://localhost:8080/"
        },
        "id": "KRtrIi173z7K",
        "outputId": "652f4779-92a3-4e70-d297-ddb8bd7df4e1"
      },
      "execution_count": 51,
      "outputs": [
        {
          "output_type": "stream",
          "name": "stdout",
          "text": [
            "'test' occurs 3 times.\n"
          ]
        }
      ]
    },
    {
      "cell_type": "code",
      "source": [
        "# 22 How can you check if a file is empty before attempting to read its contents\n",
        "import os\n",
        "\n",
        "# Create non-empty file\n",
        "with open(\"output.txt\", \"w\") as f:\n",
        "    f.write(\"Not empty\")\n",
        "\n",
        "if os.path.getsize(\"output.txt\") == 0:\n",
        "    print(\"File is empty\")\n",
        "else:\n",
        "    with open(\"output.txt\", \"r\") as f:\n",
        "        print(f.read())"
      ],
      "metadata": {
        "colab": {
          "base_uri": "https://localhost:8080/"
        },
        "id": "QQqSpBOy3zz6",
        "outputId": "9fe10b32-dc75-4f43-8888-5080043408ba"
      },
      "execution_count": 52,
      "outputs": [
        {
          "output_type": "stream",
          "name": "stdout",
          "text": [
            "Not empty\n"
          ]
        }
      ]
    },
    {
      "cell_type": "code",
      "source": [
        "# 23 Write a Python program that writes to a log file when an error occurs during file handling\n",
        "import logging\n",
        "logging.basicConfig(filename=\"file_error.log\", level=logging.ERROR)\n",
        "\n",
        "try:\n",
        "    with open(\"nofile.txt\", \"r\") as f:\n",
        "        print(f.read())\n",
        "except Exception as e:\n",
        "    logging.error(f\"Error occurred: {e}\")"
      ],
      "metadata": {
        "colab": {
          "base_uri": "https://localhost:8080/"
        },
        "id": "aNhRJE3S3waq",
        "outputId": "d5eefe79-1972-464b-d724-e83b127c6c91"
      },
      "execution_count": 53,
      "outputs": [
        {
          "output_type": "stream",
          "name": "stderr",
          "text": [
            "ERROR:root:Error occurred: [Errno 2] No such file or directory: 'nofile.txt'\n"
          ]
        }
      ]
    }
  ]
}