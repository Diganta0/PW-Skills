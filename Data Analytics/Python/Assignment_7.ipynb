{
  "nbformat": 4,
  "nbformat_minor": 0,
  "metadata": {
    "colab": {
      "provenance": []
    },
    "kernelspec": {
      "name": "python3",
      "display_name": "Python 3"
    },
    "language_info": {
      "name": "python"
    }
  },
  "cells": [
    {
      "cell_type": "markdown",
      "source": [
        "1. What is a RESTful API?\n",
        "  - A web API that follows REST rules, using URLs and HTTP methods (GET/POST/PUT/DELETE) to work with resources.\n",
        "\n",
        "2. Explain the concept of API specification.\n",
        "  - A document (like OpenAPI) that lists endpoints, request/response formats, parameters, and errors so clients know how to use the API.\n",
        "\n",
        "3. What is Flask, and why is it popular for building APIs?\n",
        "  - Flask is a small Python web framework. It’s popular because it’s simple, flexible, and easy to add extensions.\n",
        "\n",
        "4. What is routing in Flask?\n",
        "  - Routing maps a URL (path) to a Python function that runs when that URL is visited.\n",
        "\n",
        "5. How do you create a simple Flask application?\n",
        "  - Step 1. Import Flask and create an app object.\n",
        "  - Step 2. Define at least one route using @app.route().\n",
        "  - Step 3. Write a function that returns a response (text or HTML).\n",
        "  - Step 4. Run the app using app.run().\n",
        "\n",
        "6. What are HTTP methods used in RESTful APIs?\n",
        "  - Common ones: GET (read), POST (create), PUT/PATCH (update), DELETE (remove).\n",
        "\n",
        "7. What is the purpose of the @app.route() decorator in Flask?\n",
        "  - It tells Flask which URL should call the decorated function.\n",
        "\n",
        "8. What is the difference between GET and POST HTTP methods?\n",
        "  - GET reads data (params in URL); POST sends data in the request body (used to create or submit).\n",
        "\n",
        "9. How do you handle errors in Flask APIs?\n",
        "  - In Flask, errors are handled by creating error handlers. These return custom messages and proper HTTP status codes. For example:\n",
        "  - 404 → when a page is not found.\n",
        "  - 500 → when there is a server error.\n",
        "  - Using @app.errorhandler(code), you can return a clear error response (often JSON in APIs). This improves user experience and debugging.\n",
        "\n",
        "10. How do you connect Flask to a SQL database?\n",
        "  - Use a DB library or extension (common: Flask-SQLAlchemy) and set SQLALCHEMY_DATABASE_URI in config.\n",
        "\n",
        "11. What is the role of Flask-SQLAlchemy?\n",
        "  - It gives an ORM (map Python classes to DB tables) and makes DB work easier in Flask.\n",
        "\n",
        "12. What are Flask blueprints, and how are they useful?\n",
        "  - Blueprints split an app into modules (routes, templates) so code is organized and reusable.\n",
        "\n",
        "13. What is the purpose of Flask's request object?\n",
        "  - request holds incoming data: form fields, JSON, headers, files, and HTTP method.\n",
        "\n",
        "14. How do you create a RESTful API endpoint using Flask?\n",
        "  - A RESTful API endpoint is a URL that represents a resource (like /users or /products). You define it using @app.route() with the correct HTTP method (GET, POST, etc.). The function linked to that route processes the request and returns a response (often JSON).\n",
        "  - Example idea: /api/users could return a list of all users when called with GET.\n",
        "\n",
        "15. What is the purpose of Flask's jsonify() function?\n",
        "  - It converts Python data to JSON response and sets the right headers.\n",
        "\n",
        "16. Explain Flask’s url_for() function.\n",
        "  - Generates a URL for a route by endpoint name and args, e.g. url_for('home') — avoids hard-coded links.\n",
        "\n",
        "17. How does Flask handle static files (CSS, JavaScript, etc.)?\n",
        "  - Serve them from the static/ folder and link with url_for('static', filename='file.css').\n",
        "\n",
        "18. What is an API specification, and how does it help in building a Flask API?\n",
        "  - (Short) It documents endpoints, inputs, outputs and helps clients, testing, and auto-generating code (e.g., OpenAPI).\n",
        "\n",
        "19. What are HTTP status codes, and why are they important in a Flask API?\n",
        "  - Numeric responses like 200 (OK), 201 (Created), 400 (Bad request), 404 (Not found), 500 (Server error). They tell the client what happened.\n",
        "\n",
        "20. How do you handle POST requests in Flask?\n",
        "  - Define a route with methods=['POST'].\n",
        "  - Access the request data using request.form (for form data) or request.json (for JSON).\n",
        "  - Process the data (save to DB, validate, etc.).\n",
        "  - Return a response with a status code.\n",
        "\n",
        "21. How would you secure a Flask API?\n",
        "  - Use HTTPS, authentication (JWT/OAuth/API keys), input validation, rate limiting, and proper CORS settings.\n",
        "\n",
        "22. What is the significance of the Flask-RESTful extension?\n",
        "  - It provides helper classes for building REST APIs (Resource classes, request parsing), saving boilerplate.\n",
        "\n",
        "23. What is the role of Flask’s session object?\n",
        "  -session stores small user data across requests (kept in signed cookies by default)."
      ],
      "metadata": {
        "id": "3LBed_NjJ9rT"
      }
    },
    {
      "cell_type": "code",
      "source": [
        "#  PRACTICAL\n",
        "\n",
        "\n",
        "\n",
        "\n",
        "\n",
        "# Install necessary packages\n",
        "!pip install flask flask-ngrok\n",
        "\n",
        "# Import them\n",
        "from flask import Flask\n",
        "from flask_ngrok import run_with_ngrok\n",
        "import os\n",
        "\n",
        "# Create directories for templates and static files if they don't exist\n",
        "if not os.path.exists('templates'):\n",
        "    os.makedirs('templates')\n",
        "if not os.path.exists('static'):\n",
        "    os.makedirs('static')\n"
      ],
      "metadata": {
        "colab": {
          "base_uri": "https://localhost:8080/"
        },
        "id": "s5Fn5K9852u5",
        "outputId": "bbed5676-ec61-4011-f9eb-0eed7a234853"
      },
      "execution_count": null,
      "outputs": [
        {
          "output_type": "stream",
          "name": "stdout",
          "text": [
            "Requirement already satisfied: flask in /usr/local/lib/python3.12/dist-packages (3.1.2)\n",
            "Requirement already satisfied: flask-ngrok in /usr/local/lib/python3.12/dist-packages (0.0.25)\n",
            "Requirement already satisfied: blinker>=1.9.0 in /usr/local/lib/python3.12/dist-packages (from flask) (1.9.0)\n",
            "Requirement already satisfied: click>=8.1.3 in /usr/local/lib/python3.12/dist-packages (from flask) (8.2.1)\n",
            "Requirement already satisfied: itsdangerous>=2.2.0 in /usr/local/lib/python3.12/dist-packages (from flask) (2.2.0)\n",
            "Requirement already satisfied: jinja2>=3.1.2 in /usr/local/lib/python3.12/dist-packages (from flask) (3.1.6)\n",
            "Requirement already satisfied: markupsafe>=2.1.1 in /usr/local/lib/python3.12/dist-packages (from flask) (3.0.2)\n",
            "Requirement already satisfied: werkzeug>=3.1.0 in /usr/local/lib/python3.12/dist-packages (from flask) (3.1.3)\n",
            "Requirement already satisfied: requests in /usr/local/lib/python3.12/dist-packages (from flask-ngrok) (2.32.4)\n",
            "Requirement already satisfied: charset_normalizer<4,>=2 in /usr/local/lib/python3.12/dist-packages (from requests->flask-ngrok) (3.4.3)\n",
            "Requirement already satisfied: idna<4,>=2.5 in /usr/local/lib/python3.12/dist-packages (from requests->flask-ngrok) (3.10)\n",
            "Requirement already satisfied: urllib3<3,>=1.21.1 in /usr/local/lib/python3.12/dist-packages (from requests->flask-ngrok) (2.5.0)\n",
            "Requirement already satisfied: certifi>=2017.4.17 in /usr/local/lib/python3.12/dist-packages (from requests->flask-ngrok) (2025.8.3)\n"
          ]
        }
      ]
    },
    {
      "cell_type": "code",
      "execution_count": null,
      "metadata": {
        "id": "GAQLXT-WJWxC",
        "colab": {
          "base_uri": "https://localhost:8080/"
        },
        "outputId": "a3a89701-2e00-4d64-e02f-1c57cf9e07bc"
      },
      "outputs": [
        {
          "output_type": "stream",
          "name": "stdout",
          "text": [
            "Overwriting app.py\n"
          ]
        }
      ],
      "source": [
        "# 1. How do you create a basic Flask application?\n",
        "%%writefile app.py\n",
        "from flask import Flask\n",
        "from flask_ngrok import run_with_ngrok\n",
        "\n",
        "app = Flask(__name__)\n",
        "run_with_ngrok(app)  # Start ngrok when app is run\n",
        "\n",
        "@app.route(\"/\")\n",
        "def home():\n",
        "    return \"Hello, Roni!\"\n",
        "\n",
        "if __name__ == '__main__':\n",
        "    app.run()"
      ]
    },
    {
      "cell_type": "code",
      "source": [
        "# Q2. How do you serve static files like images or CSS in Flask?\n",
        "%%writefile static/style.css\n",
        "body { background-color: #333; color: white; text-align: center; }\n",
        "\n",
        "\n",
        "%%writefile templates/index.html\n",
        "<!DOCTYPE html>\n",
        "<html>\n",
        "<head>\n",
        "    <link rel=\"stylesheet\" href=\"{{ url_for('static', filename='style.css') }}\">\n",
        "</head>\n",
        "<body>\n",
        "    <h1>This page is styled with CSS!</h1>\n",
        "</body>\n",
        "</html>\n",
        "\n",
        "\n",
        "%%writefile app.py\n",
        "from flask import Flask, render_template\n",
        "from flask_ngrok import run_with_ngrok\n",
        "\n",
        "app = Flask(__name__)\n",
        "run_with_ngrok(app)\n",
        "\n",
        "@app.route(\"/\")\n",
        "def home():\n",
        "    return render_template('index.html')\n",
        "\n",
        "if __name__ == '__main__':\n",
        "    app.run()\n",
        "\n",
        "# Run the app\n",
        "!python app.py"
      ],
      "metadata": {
        "colab": {
          "base_uri": "https://localhost:8080/"
        },
        "id": "L1XUci6Zz60h",
        "outputId": "1037854e-e86f-47d5-b7bb-aae13b547bf6"
      },
      "execution_count": null,
      "outputs": [
        {
          "output_type": "stream",
          "name": "stdout",
          "text": [
            "Writing static/style.css\n"
          ]
        }
      ]
    },
    {
      "cell_type": "code",
      "source": [
        "# Q3. How do you define different routes with different HTTP methods in Flask?\n",
        "%%writefile app.py\n",
        "from flask import Flask, request\n",
        "from flask_ngrok import run_with_ngrok\n",
        "\n",
        "app = Flask(__name__)\n",
        "run_with_ngrok(app)\n",
        "\n",
        "@app.route(\"/data\", methods=['GET', 'POST'])\n",
        "def handle_data():\n",
        "    if request.method == 'POST':\n",
        "        return \"You sent a POST request!\"\n",
        "    return \"You sent a GET request!\"\n",
        "\n",
        "if __name__ == '__main__':\n",
        "    app.run()\n",
        "\n",
        "# Run the app\n",
        "!python app.py"
      ],
      "metadata": {
        "colab": {
          "base_uri": "https://localhost:8080/"
        },
        "id": "3IfsdOELz6qi",
        "outputId": "c8dd9133-5183-486b-e936-e1f5e990f481"
      },
      "execution_count": null,
      "outputs": [
        {
          "output_type": "stream",
          "name": "stdout",
          "text": [
            "Overwriting app.py\n"
          ]
        }
      ]
    },
    {
      "cell_type": "code",
      "source": [
        "# Q4. How do you render HTML templates in Flask?Q4. How do you render HTML templates in Flask?\n",
        "%%writefile templates/user.html\n",
        "<h1>Hello, {{ user_name }}!</h1>\n",
        "\n",
        "\n",
        "%%writefile app.py\n",
        "from flask import Flask, render_template\n",
        "from flask_ngrok import run_with_ngrok\n",
        "\n",
        "app = Flask(__name__)\n",
        "run_with_ngrok(app)\n",
        "\n",
        "@app.route(\"/\")\n",
        "def home():\n",
        "    return render_template('user.html', user_name=\"Roni\")\n",
        "\n",
        "if __name__ == '__main__':\n",
        "    app.run()\n",
        "\n",
        "# Run the app\n",
        "!python app.py"
      ],
      "metadata": {
        "colab": {
          "base_uri": "https://localhost:8080/"
        },
        "id": "RtOUNmM2z6hB",
        "outputId": "25c844f2-04e7-4ff4-b40c-bd2e5b921608"
      },
      "execution_count": null,
      "outputs": [
        {
          "output_type": "stream",
          "name": "stdout",
          "text": [
            "Writing templates/user.html\n"
          ]
        }
      ]
    },
    {
      "cell_type": "code",
      "source": [
        "# Q5. How can you generate URLs for routes in Flask using url_for?\n",
        "%%writefile templates/index.html\n",
        "<a href=\"{{ url_for('about') }}\">Go to About Page</a>\n",
        "\n",
        "\n",
        "%%writefile app.py\n",
        "from flask import Flask, render_template, url_for\n",
        "from flask_ngrok import run_with_ngrok\n",
        "\n",
        "app = Flask(__name__)\n",
        "run_with_ngrok(app)\n",
        "\n",
        "@app.route(\"/\")\n",
        "def home():\n",
        "    return render_template('index.html')\n",
        "\n",
        "@app.route(\"/about\")\n",
        "def about():\n",
        "    return \"This is the about page.\"\n",
        "\n",
        "if __name__ == '__main__':\n",
        "    app.run()\n",
        "\n",
        "# Run the app\n",
        "!python app.py"
      ],
      "metadata": {
        "colab": {
          "base_uri": "https://localhost:8080/"
        },
        "id": "PAfHdiRMz6YD",
        "outputId": "9d7ef312-9744-4660-93ff-53096f6da194"
      },
      "execution_count": null,
      "outputs": [
        {
          "output_type": "stream",
          "name": "stdout",
          "text": [
            "Writing templates/index.html\n"
          ]
        }
      ]
    },
    {
      "cell_type": "code",
      "source": [
        "# Q6. How do you handle forms in Flask?\n",
        "%%writefile templates/login.html\n",
        "<form method=\"POST\">\n",
        "    Username: <input type=\"text\" name=\"username\">\n",
        "    <input type=\"submit\" value=\"Login\">\n",
        "</form>\n",
        "\n",
        "%%writefile app.py\n",
        "from flask import Flask, render_template, request\n",
        "from flask_ngrok import run_with_ngrok\n",
        "\n",
        "app = Flask(__name__)\n",
        "run_with_ngrok(app)\n",
        "\n",
        "@app.route(\"/login\", methods=['GET', 'POST'])\n",
        "def login():\n",
        "    if request.method == 'POST':\n",
        "        return f\"Welcome, {request.form['username']}!\"\n",
        "    return render_template('login.html')\n",
        "\n",
        "if __name__ == '__main__':\n",
        "    app.run()\n",
        "\n",
        "# Run the app\n",
        "!python app.py"
      ],
      "metadata": {
        "colab": {
          "base_uri": "https://localhost:8080/"
        },
        "id": "VtiMEjaUz6O6",
        "outputId": "cb970cc2-202f-4ad9-f96b-9e87fe953013"
      },
      "execution_count": null,
      "outputs": [
        {
          "output_type": "stream",
          "name": "stdout",
          "text": [
            "Writing templates/login.html\n"
          ]
        }
      ]
    },
    {
      "cell_type": "code",
      "source": [
        "# Q7. How can you validate form data in Flask?\n",
        "%%writefile templates/contact.html\n",
        "<form method=\"POST\" novalidate>\n",
        "    {{ form.hidden_tag() }}\n",
        "    <p>{{ form.name.label }}<br>{{ form.name }}</p>\n",
        "    {% for error in form.name.errors %} <p style=\"color:red;\">{{ error }}</p> {% endfor %}\n",
        "    <p>{{ form.email.label }}<br>{{ form.email }}</p>\n",
        "    {% for error in form.email.errors %} <p style=\"color:red;\">{{ error }}</p> {% endfor %}\n",
        "    <p>{{ form.submit() }}</p>\n",
        "</form>\n",
        "\n",
        "\n",
        "%%writefile app.py\n",
        "from flask import Flask, render_template\n",
        "from flask_ngrok import run_with_ngrok\n",
        "from flask_wtf import FlaskForm\n",
        "from wtforms import StringField, SubmitField\n",
        "from wtforms.validators import DataRequired, Email\n",
        "\n",
        "app = Flask(__name__)\n",
        "app.config['SECRET_KEY'] = 'a-secret-key'\n",
        "run_with_ngrok(app)\n",
        "\n",
        "class ContactForm(FlaskForm):\n",
        "    name = StringField('Name', validators=[DataRequired()])\n",
        "    email = StringField('Email', validators=[DataRequired(), Email()])\n",
        "    submit = SubmitField('Submit')\n",
        "\n",
        "@app.route('/contact', methods=['GET', 'POST'])\n",
        "def contact():\n",
        "    form = ContactForm()\n",
        "    if form.validate_on_submit():\n",
        "        return f\"Thanks, {form.name.data}!\"\n",
        "    return render_template('contact.html', form=form)\n",
        "\n",
        "if __name__ == '__main__':\n",
        "    app.run()\n",
        "\n",
        "# Run the app\n",
        "!python app.py"
      ],
      "metadata": {
        "colab": {
          "base_uri": "https://localhost:8080/"
        },
        "id": "1BL1BSraz6EK",
        "outputId": "3fd3b5f1-00cc-4d32-a237-93176cd805d3"
      },
      "execution_count": null,
      "outputs": [
        {
          "output_type": "stream",
          "name": "stdout",
          "text": [
            "Writing templates/contact.html\n"
          ]
        }
      ]
    },
    {
      "cell_type": "code",
      "source": [
        "# Q8. How do you manage sessions in Flask?\n",
        "%%writefile app.py\n",
        "from flask import Flask, session, redirect, url_for\n",
        "from flask_ngrok import run_with_ngrok\n",
        "\n",
        "app = Flask(__name__)\n",
        "app.secret_key = 'your_secret_key'\n",
        "run_with_ngrok(app)\n",
        "\n",
        "@app.route('/')\n",
        "def index():\n",
        "    if 'username' in session:\n",
        "        return f'Logged in as {session[\"username\"]}. <a href=\"/logout\">Logout</a>'\n",
        "    return 'You are not logged in. <a href=\"/login\">Login</a>'\n",
        "\n",
        "@app.route('/login')\n",
        "def login():\n",
        "    session['username'] = 'Roni'\n",
        "    return redirect(url_for('index'))\n",
        "\n",
        "@app.route('/logout')\n",
        "def logout():\n",
        "    session.pop('username', None)\n",
        "    return redirect(url_for('index'))\n",
        "\n",
        "if __name__ == '__main__':\n",
        "    app.run()\n",
        "\n",
        "# Run the app\n",
        "!python app.py"
      ],
      "metadata": {
        "colab": {
          "base_uri": "https://localhost:8080/"
        },
        "id": "VH0uecwfz569",
        "outputId": "e04de38d-d28f-4f2c-edc6-eee100b65d0b"
      },
      "execution_count": null,
      "outputs": [
        {
          "output_type": "stream",
          "name": "stdout",
          "text": [
            "Overwriting app.py\n"
          ]
        }
      ]
    },
    {
      "cell_type": "code",
      "source": [
        "# Q9. How do you redirect to a different route in Flask?\n",
        "%%writefile app.py\n",
        "from flask import Flask, redirect, url_for\n",
        "from flask_ngrok import run_with_ngrok\n",
        "\n",
        "app = Flask(__name__)\n",
        "run_with_ngrok(app)\n",
        "\n",
        "@app.route('/')\n",
        "def home():\n",
        "    return redirect(url_for('profile'))\n",
        "\n",
        "@app.route('/profile')\n",
        "def profile():\n",
        "    return \"This is the user profile page.\"\n",
        "\n",
        "if __name__ == '__main__':\n",
        "    app.run()\n",
        "\n",
        "# Run the app\n",
        "!python app.py"
      ],
      "metadata": {
        "colab": {
          "base_uri": "https://localhost:8080/"
        },
        "id": "10HD_6hnz5xE",
        "outputId": "a4835b5f-e769-4bf2-fcf3-eb7eb871b6bf"
      },
      "execution_count": null,
      "outputs": [
        {
          "output_type": "stream",
          "name": "stdout",
          "text": [
            "Overwriting app.py\n"
          ]
        }
      ]
    },
    {
      "cell_type": "code",
      "source": [
        "# Q10. How do you handle errors in Flask (e.g., 404)?\n",
        "%%writefile app.py\n",
        "from flask import Flask\n",
        "from flask_ngrok import run_with_ngrok\n",
        "\n",
        "app = Flask(__name__)\n",
        "run_with_ngrok(app)\n",
        "\n",
        "@app.errorhandler(404)\n",
        "def page_not_found(e):\n",
        "    return \"<h2>404 - Sorry, that page was not found.</h2>\", 404\n",
        "\n",
        "if __name__ == '__main__':\n",
        "    app.run()\n",
        "\n",
        "# Run the app\n",
        "!python app.py"
      ],
      "metadata": {
        "colab": {
          "base_uri": "https://localhost:8080/"
        },
        "id": "on6VeUhnz5pE",
        "outputId": "0be3f147-50a2-41de-c451-50a2ea0cca13"
      },
      "execution_count": null,
      "outputs": [
        {
          "output_type": "stream",
          "name": "stdout",
          "text": [
            "Overwriting app.py\n"
          ]
        }
      ]
    },
    {
      "cell_type": "code",
      "source": [
        "# Q11. How do you structure a Flask app using Blueprints?\n",
        "%%writefile admin_routes.py\n",
        "from flask import Blueprint\n",
        "admin_bp = Blueprint('admin', __name__, url_prefix='/admin')\n",
        "\n",
        "@admin_bp.route('/')\n",
        "def admin_home():\n",
        "    return \"Welcome to the Admin Dashboard!\"\n",
        "\n",
        "%%writefile app.py\n",
        "from flask import Flask\n",
        "from flask_ngrok import run_with_ngrok\n",
        "from admin_routes import admin_bp\n",
        "\n",
        "app = Flask(__name__)\n",
        "run_with_ngrok(app)\n",
        "app.register_blueprint(admin_bp)\n",
        "\n",
        "@app.route('/')\n",
        "def home():\n",
        "    return 'This is the main site.'\n",
        "\n",
        "if __name__ == '__main__':\n",
        "    app.run()\n",
        "\n",
        "# Run the app\n",
        "!python app.py"
      ],
      "metadata": {
        "colab": {
          "base_uri": "https://localhost:8080/"
        },
        "id": "H7N9E_pvz5hs",
        "outputId": "c306dc8a-b0e2-4e0a-ebd3-0cf4271517c7"
      },
      "execution_count": null,
      "outputs": [
        {
          "output_type": "stream",
          "name": "stdout",
          "text": [
            "Overwriting admin_routes.py\n"
          ]
        }
      ]
    },
    {
      "cell_type": "code",
      "source": [
        "# Q12. How do you define a custom Jinja filter in Flask?\n",
        "%%writefile templates/custom_filter.html\n",
        "<p>Reversed Text: {{ my_text|reverse }}</p>\n",
        "\n",
        "%%writefile app.py\n",
        "from flask import Flask, render_template\n",
        "from flask_ngrok import run_with_ngrok\n",
        "\n",
        "app = Flask(__name__)\n",
        "run_with_ngrok(app)\n",
        "\n",
        "@app.template_filter('reverse')\n",
        "def reverse_filter(s):\n",
        "    return s[::-1]\n",
        "\n",
        "@app.route('/')\n",
        "def index():\n",
        "    return render_template('custom_filter.html', my_text=\"Hello World\")\n",
        "\n",
        "if __name__ == '__main__':\n",
        "    app.run()\n",
        "\n",
        "# Run the app\n",
        "!python app.py"
      ],
      "metadata": {
        "colab": {
          "base_uri": "https://localhost:8080/"
        },
        "id": "BFYXGVWcz5IF",
        "outputId": "75d4bc8d-04f0-4f71-dffb-2e88bc7a2733"
      },
      "execution_count": null,
      "outputs": [
        {
          "output_type": "stream",
          "name": "stdout",
          "text": [
            "Overwriting templates/custom_filter.html\n"
          ]
        }
      ]
    },
    {
      "cell_type": "code",
      "source": [
        "# Q13. How can you redirect with query parameters in Flask?\n",
        "%%writefile app.py\n",
        "from flask import Flask, redirect, url_for, request\n",
        "from flask_ngrok import run_with_ngrok\n",
        "\n",
        "app = Flask(__name__)\n",
        "run_with_ngrok(app)\n",
        "\n",
        "@app.route('/')\n",
        "def index():\n",
        "    return redirect(url_for('welcome', user='Roni'))\n",
        "\n",
        "@app.route('/welcome')\n",
        "def welcome():\n",
        "    user_name = request.args.get('user')\n",
        "    return f\"Welcome, {user_name}!\"\n",
        "\n",
        "if __name__ == '__main__':\n",
        "    app.run()\n",
        "\n",
        "# Run the app\n",
        "!python app.py"
      ],
      "metadata": {
        "colab": {
          "base_uri": "https://localhost:8080/"
        },
        "id": "2ZpCjCenz48t",
        "outputId": "07b30450-a50f-4334-d05c-9c793b3a0e82"
      },
      "execution_count": null,
      "outputs": [
        {
          "output_type": "stream",
          "name": "stdout",
          "text": [
            "Overwriting app.py\n"
          ]
        }
      ]
    },
    {
      "cell_type": "code",
      "source": [
        "# Q14. How do you return JSON responses in Flask?\n",
        "%%writefile app.py\n",
        "from flask import Flask, jsonify\n",
        "from flask_ngrok import run_with_ngrok\n",
        "\n",
        "app = Flask(__name__)\n",
        "run_with_ngrok(app)\n",
        "\n",
        "@app.route('/api/user')\n",
        "def get_user():\n",
        "    return jsonify({'id': 101, 'name': 'Roni', 'github': 'diganta-dandapat'})\n",
        "\n",
        "if __name__ == '__main__':\n",
        "    app.run()\n",
        "\n",
        "# Run the app\n",
        "!python app.py"
      ],
      "metadata": {
        "colab": {
          "base_uri": "https://localhost:8080/"
        },
        "id": "AOEiQZgcz4yd",
        "outputId": "19a2759b-ad7a-4ce9-f1f8-4552b6c8d56d"
      },
      "execution_count": null,
      "outputs": [
        {
          "output_type": "stream",
          "name": "stdout",
          "text": [
            "Overwriting app.py\n"
          ]
        }
      ]
    },
    {
      "cell_type": "code",
      "source": [
        "# Q15. How do you capture URL parameters in Flask?\n",
        "%%writefile app.py\n",
        "from flask import Flask\n",
        "from flask_ngrok import run_with_ngrok\n",
        "\n",
        "app = Flask(__name__)\n",
        "run_with_ngrok(app)\n",
        "\n",
        "@app.route('/user/<username>')\n",
        "def show_user_profile(username):\n",
        "    return f'<h1>Profile page for user: {username}</h1>'\n",
        "\n",
        "if __name__ == '__main__':\n",
        "    app.run()\n",
        "\n",
        "# Run the app\n",
        "!python app.py"
      ],
      "metadata": {
        "colab": {
          "base_uri": "https://localhost:8080/"
        },
        "id": "b4NjG3hJz34J",
        "outputId": "aa05e032-9598-4c8f-c01c-52123a548be8"
      },
      "execution_count": null,
      "outputs": [
        {
          "output_type": "stream",
          "name": "stdout",
          "text": [
            "Overwriting app.py\n"
          ]
        }
      ]
    }
  ]
}