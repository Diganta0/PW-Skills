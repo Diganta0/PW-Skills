{
  "nbformat": 4,
  "nbformat_minor": 0,
  "metadata": {
    "colab": {
      "provenance": []
    },
    "kernelspec": {
      "name": "python3",
      "display_name": "Python 3"
    },
    "language_info": {
      "name": "python"
    }
  },
  "cells": [
    {
      "cell_type": "markdown",
      "source": [
        "1. What is the difference between descriptive statistics and inferential statistics? Explain with examples.\n",
        "  - Descriptive statistics summarizes data you already have. You're just describing what you see.\n",
        "  -- Example: The average CGPA of 100 surveyed students is 7.5.\n",
        "  - Inferential statistics uses that sample data to make predictions about a much larger group.\n",
        "  -- Example: Based on the sample, you predict the average CGPA for all 5,000 students in the college is around 7.5.\n",
        "\n",
        "  - Descriptive describes a sample, while Inferential predicts for the whole population.\n",
        "\n",
        "2. What is sampling in statistics? Explain the differences between random and stratified sampling.\n",
        "  - Sampling is selecting a small group (a sample) from a large population to study, because studying everyone is often not possible.\n",
        "  - Random Sampling: Everyone has an equal chance of being picked, like drawing names from a hat. It's simple but might miss representing small sub-groups.\n",
        "  - Stratified Sampling: The population is split into groups (e.g., by year of study). A random sample is then taken from each group. This guarantees every sub-group is represented.\n",
        "\n",
        "3. Define mean, median, and mode. Explain why these measures of central tendency are important.\n",
        "  - Mean: The average of all numbers.\n",
        "  - Median: The middle value when the numbers are sorted. It's not affected by extreme outliers.\n",
        "  - Mode: The value that appears most frequently.\n",
        "\n",
        "   They are important because they summarize an entire dataset into a single, representative \"typical\" value, making the data easier to understand at a glance.\n",
        "\n",
        "4. Explain skewness and kurtosis. What does a positive skew imply about the data?\n",
        "  - Skewness and kurtosis describe the shape of a data distribution. 📊\n",
        "  - Skewness: Measures if the data is lopsided (asymmetrical).\n",
        "  - Kurtosis: Measures if the data has a sharp peak and heavy tails (lots of outliers).\n",
        "  - Positive skew implies that most data values are low, with a few extremely high values pulling the mean up. For example, most people have an average income, but a few billionaires increase the overall mean income. In this case, the Mean > Median."
      ],
      "metadata": {
        "id": "fUEY9Bp1D4LA"
      }
    },
    {
      "cell_type": "code",
      "execution_count": 5,
      "metadata": {
        "colab": {
          "base_uri": "https://localhost:8080/"
        },
        "id": "9P58U2qQBW3O",
        "outputId": "6cf6986c-b939-4021-903b-88c2d5e7d13b"
      },
      "outputs": [
        {
          "output_type": "stream",
          "name": "stdout",
          "text": [
            "Mean: 19.6\n",
            "Median: 19\n",
            "Mode Result (from Scipy): ModeResult(mode=np.int64(12), count=np.int64(3))\n"
          ]
        }
      ],
      "source": [
        "# Q5: Implement a Python program to compute the mean, median, and mode of a given list of numbers.\n",
        "# numbers = [12, 15, 12, 18, 19, 12, 20, 22, 19, 19, 24, 24, 24, 26, 28]\n",
        "# !pip install numpy scipy matplotlib seaborn -q\n",
        "import statistics\n",
        "from scipy import stats\n",
        "\n",
        "numbers = [12, 15, 12, 18, 19, 12, 20, 22, 19, 19, 24, 24, 24, 26, 28]\n",
        "\n",
        "# Calculate Mean, Median, and Mode\n",
        "mean_value = statistics.mean(numbers)\n",
        "median_value = statistics.median(numbers)\n",
        "mode_result = stats.mode(numbers)\n",
        "\n",
        "print(f\"Mean: {mean_value}\")\n",
        "print(f\"Median: {median_value}\")\n",
        "print(f\"Mode Result (from Scipy): {mode_result}\")"
      ]
    },
    {
      "cell_type": "code",
      "source": [
        "# Q6: Compute the covariance and correlation coefficient between the following two datasets provided as lists in Python:\n",
        "# list_x = [10, 20, 30, 40, 50]\n",
        "# list_y = [15, 25, 35, 45, 60]\n",
        "\n",
        "import numpy as np\n",
        "\n",
        "list_x = [10, 20, 30, 40, 50]\n",
        "list_y = [15, 25, 35, 45, 60]\n",
        "\n",
        "# Covariance: The value at [0, 1] in the matrix\n",
        "covariance_xy = np.cov(list_x, list_y)[0, 1]\n",
        "\n",
        "# Correlation: The value at [0, 1] in the matrix\n",
        "correlation_xy = np.corrcoef(list_x, list_y)[0, 1]\n",
        "\n",
        "print(f\"Covariance: {covariance_xy:.2f}\")\n",
        "print(f\"Correlation: {correlation_xy:.4f}\")"
      ],
      "metadata": {
        "colab": {
          "base_uri": "https://localhost:8080/"
        },
        "id": "lG4F9F6NFSa6",
        "outputId": "581788d1-4640-42c6-a44e-f133ef2b80c3"
      },
      "execution_count": 6,
      "outputs": [
        {
          "output_type": "stream",
          "name": "stdout",
          "text": [
            "Covariance: 275.00\n",
            "Correlation: 0.9959\n"
          ]
        }
      ]
    },
    {
      "cell_type": "code",
      "source": [
        "# Q7: Write a Python script to draw a boxplot for the following numeric list and identify its outliers. Explain the result:\n",
        "# data = [12, 14, 14, 15, 18, 19, 19, 21, 22, 22, 23, 23, 24, 26, 29, 35]\n",
        "\n",
        "import matplotlib.pyplot as plt\n",
        "import seaborn as sns\n",
        "\n",
        "data = [12, 14, 14, 15, 18, 19, 19, 21, 22, 22, 23, 23, 24, 26, 29, 35]\n",
        "\n",
        "sns.boxplot(x=data)\n",
        "plt.title('Boxplot of Numeric Data')\n",
        "plt.show()"
      ],
      "metadata": {
        "colab": {
          "base_uri": "https://localhost:8080/",
          "height": 452
        },
        "id": "ilq7ExoEF6Sj",
        "outputId": "4e698a8a-621d-40bf-f9e0-fa45467bdba3"
      },
      "execution_count": 7,
      "outputs": [
        {
          "output_type": "display_data",
          "data": {
            "text/plain": [
              "<Figure size 640x480 with 1 Axes>"
            ],
            "image/png": "[encoded data removed]"
          },
          "metadata": {}
        }
      ]
    },
    {
      "cell_type": "markdown",
      "source": [
        "8. You are a data analyst. Explain how you would use covariance and correlation to explore the relationship between advertising spend and daily sales. Write Python code to compute the correlation.\n",
        "advertising_spend = [200, 250, 300, 400, 500]\n",
        "daily_sales = [2200, 2450, 2750, 3200, 4000]\n",
        "  - Covariance shows the direction of the relationship. A positive value means as ad spend increases, sales also tend to increase. However, it doesn't measure the strength.\n",
        "\n",
        "  - Correlation is better because it shows both direction and strength on a standard scale from -1 to 1. A value near +1 indicates a very strong positive relationship, which is what the marketing team needs to know."
      ],
      "metadata": {
        "id": "SKlVzhM7GOxI"
      }
    },
    {
      "cell_type": "code",
      "source": [
        "import numpy as np\n",
        "\n",
        "advertising_spend = [200, 250, 300, 400, 500]\n",
        "daily_sales = [2200, 2450, 2750, 3200, 4000]\n",
        "\n",
        "# Calculate the correlation coefficient\n",
        "correlation_coefficient = np.corrcoef(advertising_spend, daily_sales)[0, 1]\n",
        "\n",
        "print(f\"Correlation Coefficient: {correlation_coefficient:.4f}\")"
      ],
      "metadata": {
        "colab": {
          "base_uri": "https://localhost:8080/"
        },
        "id": "a0sTj3lZF6Hs",
        "outputId": "c5a4a1de-c959-466b-b809-c7f1044279a3"
      },
      "execution_count": 9,
      "outputs": [
        {
          "output_type": "stream",
          "name": "stdout",
          "text": [
            "Correlation Coefficient: 0.9936\n"
          ]
        }
      ]
    },
    {
      "cell_type": "markdown",
      "source": [
        "Q9: Your team has collected customer satisfaction survey data (scale of 1-10). Explain which summary statistics and visualizations you’d use. Write Python code to create a histogram for the data.\n",
        "survey_scores = [7, 8, 5, 9, 6, 7, 8, 9, 10, 4, 7, 6, 9, 8, 7]\n",
        "  - For summary statistics, you'd use the Mean (average score), Median (middle score), and Standard Deviation (how spread out the scores are).\n",
        "\n",
        "  - For visualizations, a Histogram is best. It quickly shows you the frequency of each score and the overall shape of customer satisfaction."
      ],
      "metadata": {
        "id": "g8Hn6z36GhSS"
      }
    },
    {
      "cell_type": "code",
      "source": [
        "import matplotlib.pyplot as plt\n",
        "\n",
        "survey_scores = [7, 8, 5, 9, 6, 7, 8, 9, 10, 4, 7, 6, 9, 8, 7]\n",
        "\n",
        "plt.hist(survey_scores, bins=range(1, 12), edgecolor='black', align='left')\n",
        "plt.title('Customer Satisfaction Survey Scores')\n",
        "plt.xlabel('Satisfaction Score (1-10)')\n",
        "plt.ylabel('Number of Customers')\n",
        "plt.xticks(range(1, 11))\n",
        "plt.show()"
      ],
      "metadata": {
        "colab": {
          "base_uri": "https://localhost:8080/",
          "height": 472
        },
        "id": "WUfv0QWXF52t",
        "outputId": "6338c79b-42dd-47c5-8983-9b387baeafa3"
      },
      "execution_count": 8,
      "outputs": [
        {
          "output_type": "display_data",
          "data": {
            "text/plain": [
              "<Figure size 640x480 with 1 Axes>"
            ],
            "image/png": "[encoded data removed]"
          },
          "metadata": {}
        }
      ]
    }
  ]
}